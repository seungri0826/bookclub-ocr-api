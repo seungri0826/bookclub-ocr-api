{
 "cells": [
  {
   "cell_type": "code",
   "execution_count": 1,
   "metadata": {},
   "outputs": [],
   "source": [
    "from hanspell import spell_checker"
   ]
  },
  {
   "cell_type": "code",
   "execution_count": 20,
   "metadata": {},
   "outputs": [],
   "source": [
    "import re"
   ]
  },
  {
   "cell_type": "code",
   "execution_count": 2,
   "metadata": {},
   "outputs": [],
   "source": [
    "book1 = '''우리가 체류한 그 정도의 크기\n",
    "1달러짜리 옛날 지폐 크기의 이 그림은 우리의 삶만큼이나,\n",
    "그리고 시간에 대한 우리의 견딤과 시간 안에서의 머무름만\n",
    "큼이나 하잘것없고 무용하다. 따라서 우리가 이 그림에서 떠\n",
    "나지 못하고 머물러 있는 상태는, 이 시에서 머무르고 있는\n",
    "것과 마찬가지로, 신비스럽고 우연한 우리 존재의 “체류”에\n",
    "99\n",
    "대한 알레고리라고 할 수 있다. 우리라는 존재 안에서 스스로\n",
    "를 드러내는 시간, 그 시간 안에 존재하는 우리 자신에 대한\n",
    "알레고리이기도 하다. 에쓸 eh#상다e'''\n",
    "book2 = '''\"Of course I do. But giving to other people is what\n",
    "makes me feel alive. Not my car or my house. Not what I\n",
    "look like in the mirror. When I give my time, when I can\n",
    "make someone smile after they were feeling sad, it's as\n",
    "close to healthy as I ever feel.\n",
    "\"Do the kinds of things that come from the heart.\n",
    "When you do, you won't be dissatisfied, you won't be\n",
    "envious, you won't be longing for somebody else's things.\n",
    "On the contrary, you'll be overwhelmed with what\n",
    "comes back.'\"'''\n",
    "book3 = '''오늘날 민첩성(agility)은 중요한 요소이다. 하지만 전략이 없는 민첩성\n",
    "은 상황에 대한 조건반사에 불과하다. 그것은 당면한 문제에 있어서 어\n",
    "떤 개인이나 기업, 국가를 다른 사람, 기업, 국가의 전략에 종속시키게\n",
    "한다. 혹은 단순한 운에 종속시킨다. ##주한 동 5를원\n",
    "전략은 그것을 만드는 인간이 그런 것처럼 항상 결점을 가지고 있다.\n",
    "전략은 유연성을 가지면서 정보에 따라 신속하게 변해야 한다. 지능적\n",
    "전략이 되기 위해서는 단지 현재의 변화뿐만 아니라 변화가 더욱 가속\n",
    "화되는 미래를 고려해야 한다. 말은 쉽지만 이 모든 것의 실천은 대단히\n",
    "어렵다. 그러나 전략을 단순히 민첩성으로 대체하는 것은, 가장 가까운\n",
    "공항으로 미친 듯이 달려가 어디로 향하는 탑승구이든 상관없이 눈에 띄\n",
    "는 탑승구로 들어가 비행기를 타는 것과 같은 일이다. 그것은 결국 우리\n",
    "가 어디에 도착하게 되든, 짐을 잃어버리지만 않는다면 텍사스, 동경 또\n",
    "는 테헤란, 아프리카 서부의 팀북투라고 해도 상관 없을 때나 수용 가능\n",
    "한 일인 것이다. 그러나 우리에게는 도착지가 중요하고, 또 그래야만 한\n",
    "다. 미래는 도착지에 신경을 쓰는 사람들의 것이기 때문이다.'''\n",
    "book4 = '''Luckily I didn't have to answer. He just grinned and-\n",
    "said, \"Some of us get dipped in flat, some in satin, some-\n",
    "in gloss....\" He turned to me. \"But every once in a while\n",
    "you find someone who's iridescent, and when you do,\n",
    "nothing will ever compare.\"'''"
   ]
  },
  {
   "cell_type": "markdown",
   "metadata": {},
   "source": [
    "## 한글 (py-hanspell)\n",
    "- 네이버 맞춤법 검사기 기반\n",
    "- 특수문자 제거?"
   ]
  },
  {
   "cell_type": "code",
   "execution_count": 32,
   "metadata": {},
   "outputs": [],
   "source": [
    "# OCR 변환된 텍스트가 500자 이상이라면\n",
    "def ko_check_long(text):\n",
    "    text1, text2 = text[:500], text[500:]\n",
    "    text1_mod = spell_checker.check(text1.replace('\\n', '')).checked\n",
    "    text2_mod = spell_checker.check(text2.replace('\\n', '')).checked\n",
    "    text_checked = text1_mod + text2_mod\n",
    "    text_checked = re.sub('[@#^*+\\\\/{}]', '', text_checked)\n",
    "    return text_checked"
   ]
  },
  {
   "cell_type": "code",
   "execution_count": 33,
   "metadata": {},
   "outputs": [
    {
     "name": "stdout",
     "output_type": "stream",
     "text": [
      "오늘날 민첩성(agility)은 중요한 요소이다. 하지만 전략이 없는 민첩성은 상황에 대한 조건반사에 불과하다. 그것은 당면한 문제에 있어서 어떤 개인이나 기업, 국가를 다른 사람, 기업, 국가의 전략에 종속시키게 한다. 혹은 단순한 운에 종속시킨다. 주한 동 5를 온 전략은 그것을 만드는 인간이 그런 것처럼 항상 결점을 가지고 있다. 전략은 유연성을 가지면서 정보에 따라 신속하게 변해야 한다. 지능적 전략이 되기 위해서는 단지 현재의 변화뿐만 아니라 변화가 더욱 가속화되는 미래를 고려해야 한다. 말은 쉽지만 이 모든 것의 실천은 대단히 어렵다. 그러나 전략을 단순히 민첩성으로 대체하는 것은, 가장 가까운 공항으로 미친 듯이 달려가 어디로 향하는 탑승구이든 상관없이 눈에 띄는 탑승구로 들어가 비행기를 타는 것과 같은 일이다. 그것은 결국 우리가 어디에 도착하게 되든, 짐을 잃어버리지만 않는다면 텍사스, 동경 또는 테헤란, 아프리카 서부의 팀북투라꼬 해도 상관없을 때나 수용 가능한 일인 것이다. 그러나 우리에게는 도착지가 중요하고, 또 그래야만 한다. 미래는 도착지에 신경을 쓰는 사람들의 것이기 때문이다.\n"
     ]
    }
   ],
   "source": [
    "print(ko_check_long(book3))"
   ]
  },
  {
   "cell_type": "code",
   "execution_count": 34,
   "metadata": {},
   "outputs": [],
   "source": [
    "def ko_check_short(text):\n",
    "    text_checked = spell_checker.check(text.replace('\\n', '')).checked\n",
    "    text_checked = re.sub('[@#^*+\\\\/{}]', '', text_checked)\n",
    "    return text_checked"
   ]
  },
  {
   "cell_type": "code",
   "execution_count": 35,
   "metadata": {},
   "outputs": [
    {
     "name": "stdout",
     "output_type": "stream",
     "text": [
      "우리가 체류한 그 정도의 크기 1달러짜리 옛날 지폐 크기의 이 그림은 우리의 삶만큼이나, 그리고 시간에 대한 우리의 견딤과 시간 안에서의 머무름만큼이나 하잘것없고 무용하다. 따라서 우리가 이 그림에서 떠나지 못하고 머물러 있는 상태는, 이 시에서 머무르고 있는 것과 마찬가지로, 신비스럽고 우연한 우리 존재의 “체류”에 99 대한 알레고리라고 할 수 있다. 우리라는 존재 안에서 스스로를 드러내는 시간, 그 시간 안에 존재하는 우리 자신에 대한 알레고리이기도 하다. 애쓸 eh상다 e\n"
     ]
    }
   ],
   "source": [
    "print(ko_check_short(book1))"
   ]
  },
  {
   "cell_type": "markdown",
   "metadata": {},
   "source": [
    "## 영어\n",
    "- 영어의 경우, 줄바꿈이 대부분 단어 중간에서 일어나지 않으므로 대부분 ' '로 replace하면 됨\n",
    "- 하지만, '-'로 줄이 끝나는 경우, 띄어쓰기 없이 바로 concat 하면 됨"
   ]
  },
  {
   "cell_type": "code",
   "execution_count": 17,
   "metadata": {},
   "outputs": [],
   "source": [
    "def en_check(text):\n",
    "    text_split = text.split('\\n')\n",
    "    text_checked = ''\n",
    "    \n",
    "    for str in text_split:\n",
    "        if str[-1] == '-':\n",
    "            text_checked += str\n",
    "        else: text_checked += (str + ' ')\n",
    "    \n",
    "    return text_checked"
   ]
  },
  {
   "cell_type": "code",
   "execution_count": 18,
   "metadata": {},
   "outputs": [
    {
     "name": "stdout",
     "output_type": "stream",
     "text": [
      "Luckily I didn't have to answer. He just grinned and-said, \"Some of us get dipped in flat, some in satin, some-in gloss....\" He turned to me. \"But every once in a while you find someone who's iridescent, and when you do, nothing will ever compare.\" \n"
     ]
    }
   ],
   "source": [
    "print(en_check(book4))"
   ]
  },
  {
   "cell_type": "code",
   "execution_count": 19,
   "metadata": {},
   "outputs": [
    {
     "name": "stdout",
     "output_type": "stream",
     "text": [
      "\"Of course I do. But giving to other people is what makes me feel alive. Not my car or my house. Not what I look like in the mirror. When I give my time, when I can make someone smile after they were feeling sad, it's as close to healthy as I ever feel. \"Do the kinds of things that come from the heart. When you do, you won't be dissatisfied, you won't be envious, you won't be longing for somebody else's things. On the contrary, you'll be overwhelmed with what comes back.'\" \n"
     ]
    }
   ],
   "source": [
    "print(en_check(book2))"
   ]
  },
  {
   "cell_type": "code",
   "execution_count": null,
   "metadata": {},
   "outputs": [],
   "source": []
  }
 ],
 "metadata": {
  "kernelspec": {
   "display_name": "Python 3",
   "language": "python",
   "name": "python3"
  },
  "language_info": {
   "codemirror_mode": {
    "name": "ipython",
    "version": 3
   },
   "file_extension": ".py",
   "mimetype": "text/x-python",
   "name": "python",
   "nbconvert_exporter": "python",
   "pygments_lexer": "ipython3",
   "version": "3.7.7"
  }
 },
 "nbformat": 4,
 "nbformat_minor": 4
}
